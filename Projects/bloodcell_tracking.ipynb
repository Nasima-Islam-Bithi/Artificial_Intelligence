{
 "cells": [
  {
   "cell_type": "code",
   "execution_count": 11,
   "id": "612f0359-4239-42ee-85c3-d3ed8249f45e",
   "metadata": {},
   "outputs": [],
   "source": [
    "import os\n",
    "import json\n",
    "import cv2\n",
    "import torch\n",
    "import torch.nn as nn\n",
    "import torch.nn.functional as F\n",
    "from torch.utils.data import Dataset, DataLoader\n",
    "from torchvision import transforms\n",
    "import matplotlib.pyplot as plt\n",
    "from sklearn.metrics import classification_report, confusion_matrix\n",
    "import seaborn as sns\n",
    "\n"
   ]
  },
  {
   "cell_type": "code",
   "execution_count": 19,
   "id": "c50527a5-91b6-4a2b-aa9b-566f83a42a10",
   "metadata": {},
   "outputs": [],
   "source": [
    "class COCOBloodCellDataset(Dataset):\n",
    "    def __init__(self, folder_path, transform=None):\n",
    "        self.folder_path = folder_path\n",
    "        self.annotation_file = os.path.join(folder_path, \"_annotations.json\")\n",
    "        self.transform = transform\n",
    "\n",
    "        with open(self.annotation_file, 'r') as f:\n",
    "            coco = json.load(f)\n",
    "\n",
    "        self.image_map = {img['id']: img['file_name'] for img in coco['images']}\n",
    "\n",
    "        self.annotations = {}\n",
    "        for ann in coco['annotations']:\n",
    "            img_id = ann['image_id']\n",
    "            cat_id = ann['category_id']\n",
    "            if img_id not in self.annotations:\n",
    "                self.annotations[img_id] = cat_id\n",
    "\n",
    "        cat_ids = sorted({cat['id'] for cat in coco['categories']})\n",
    "        self.cat_id_to_label = {cat_id: idx for idx, cat_id in enumerate(cat_ids)}\n",
    "        self.label_to_name = {self.cat_id_to_label[cat['id']]: cat['name'] for cat in coco['categories']}\n",
    "\n",
    "        self.samples = [\n",
    "            (self.image_map[img_id], self.cat_id_to_label[cat_id])\n",
    "            for img_id, cat_id in self.annotations.items()\n",
    "            if img_id in self.image_map\n",
    "        ]\n",
    "\n",
    "    def __len__(self):\n",
    "        return len(self.samples)\n",
    "\n",
    "    def __getitem__(self, idx):\n",
    "        img_name, label = self.samples[idx]\n",
    "        img_path = os.path.join(self.folder_path, img_name)\n",
    "        image = cv2.imread(img_path)\n",
    "        image = cv2.cvtColor(image, cv2.COLOR_BGR2RGB)\n",
    "        if self.transform:\n",
    "            image = self.transform(image)\n",
    "        return image, label\n"
   ]
  },
  {
   "cell_type": "code",
   "execution_count": 20,
   "id": "1412682e-23da-459f-849b-9b3e614aa937",
   "metadata": {},
   "outputs": [],
   "source": [
    "from torchvision import transforms\n",
    "from torch.utils.data import DataLoader\n",
    "\n",
    "transform = transforms.Compose([\n",
    "    transforms.ToPILImage(),\n",
    "    transforms.Resize((224, 224)),\n",
    "    transforms.ToTensor()\n",
    "])\n",
    "\n",
    "train_dataset = COCOBloodCellDataset(r\"D:\\Dr. Jarez Miah_Don't delete\\bloodcell_count\\train\", transform=transform)\n",
    "val_dataset   = COCOBloodCellDataset(r\"D:\\Dr. Jarez Miah_Don't delete\\bloodcell_count\\valid\", transform=transform)\n",
    "test_dataset  = COCOBloodCellDataset(r\"D:\\Dr. Jarez Miah_Don't delete\\bloodcell_count\\test\", transform=transform)\n",
    "\n",
    "train_loader = DataLoader(train_dataset, batch_size=32, shuffle=True)\n",
    "val_loader   = DataLoader(val_dataset, batch_size=32, shuffle=False)\n",
    "test_loader  = DataLoader(test_dataset, batch_size=32, shuffle=False)\n",
    "\n",
    "label_names = list(train_dataset.label_to_name.values())\n",
    "num_classes = len(label_names)\n"
   ]
  },
  {
   "cell_type": "code",
   "execution_count": 33,
   "id": "209e4400-a6b4-41c9-afab-d6a34027569d",
   "metadata": {},
   "outputs": [
    {
     "data": {
      "text/plain": [
       "4"
      ]
     },
     "execution_count": 33,
     "metadata": {},
     "output_type": "execute_result"
    }
   ],
   "source": [
    "num_classes"
   ]
  },
  {
   "cell_type": "code",
   "execution_count": 21,
   "id": "4674212a-f9eb-47df-be55-79791f803263",
   "metadata": {},
   "outputs": [],
   "source": [
    "train_loader = DataLoader(train_dataset, batch_size=32, shuffle=True)\n",
    "val_loader = DataLoader(val_dataset, batch_size=32, shuffle=False)\n",
    "test_loader = DataLoader(test_dataset, batch_size=32, shuffle=False)\n"
   ]
  },
  {
   "cell_type": "code",
   "execution_count": 25,
   "id": "470d3099-9619-45ab-a18b-26aeb9f40c3d",
   "metadata": {},
   "outputs": [
    {
     "data": {
      "text/plain": [
       "(255, 36, 73)"
      ]
     },
     "execution_count": 25,
     "metadata": {},
     "output_type": "execute_result"
    }
   ],
   "source": [
    "len(train_dataset),len(test_dataset),len(val_dataset)"
   ]
  },
  {
   "cell_type": "code",
   "execution_count": 23,
   "id": "f594d005-943b-4db6-b80d-c6bca6edbc23",
   "metadata": {},
   "outputs": [
    {
     "data": {
      "text/plain": [
       "(8, 2, 3)"
      ]
     },
     "execution_count": 23,
     "metadata": {},
     "output_type": "execute_result"
    }
   ],
   "source": [
    "len(train_loader),len(test_loader),len(val_loader)"
   ]
  },
  {
   "cell_type": "code",
   "execution_count": 34,
   "id": "5495c6d2-cf36-4b77-94f6-7c2ce2d83a77",
   "metadata": {},
   "outputs": [],
   "source": [
    "import torch\n",
    "import torch.nn as nn\n",
    "import torch.nn.functional as F\n",
    "\n",
    "class SimpleCNN(nn.Module):\n",
    "    def __init__(self, num_classes=4, input_size=(224,224,3)):\n",
    "        super(SimpleCNN, self).__init__()\n",
    "        self.conv1 = nn.Conv2d(3, 32, 3, 1, 1)\n",
    "        self.conv2 = nn.Conv2d(32, 64, 3, 1, 1)\n",
    "        self.pool = nn.MaxPool2d(2, 2)\n",
    "        self.dropout = nn.Dropout(0.5)\n",
    "\n",
    "        # Infer flatten size by forwarding a dummy input\n",
    "        with torch.no_grad():\n",
    "            dummy = torch.zeros(1, 3, input_size[0], input_size[1])\n",
    "            x = self.pool(F.relu(self.conv1(dummy)))\n",
    "            x = self.pool(F.relu(self.conv2(x)))\n",
    "            self.flattened_size = x.numel()  # total number of features\n",
    "\n",
    "        self.fc1 = nn.Linear(self.flattened_size, 128)\n",
    "        self.fc2 = nn.Linear(128, num_classes)\n",
    "\n",
    "    def forward(self, x):\n",
    "        x = self.pool(F.relu(self.conv1(x)))\n",
    "        x = self.pool(F.relu(self.conv2(x)))\n",
    "        x = torch.flatten(x, 1)\n",
    "        x = self.dropout(F.relu(self.fc1(x)))\n",
    "        x = self.fc2(x)\n",
    "        return x\n"
   ]
  },
  {
   "cell_type": "code",
   "execution_count": null,
   "id": "01bb79c2-6089-46eb-9826-20f7d82a3528",
   "metadata": {},
   "outputs": [],
   "source": []
  },
  {
   "cell_type": "code",
   "execution_count": 38,
   "id": "09f34bc4-9b80-45db-a634-e0574e828ecb",
   "metadata": {},
   "outputs": [],
   "source": [
    "def train_model(model, train_loader, val_loader, criterion, optimizer, epochs=10):\n",
    "    device = torch.device('cuda' if torch.cuda.is_available() else 'cpu')\n",
    "    model.to(device)\n",
    "\n",
    "    for epoch in range(epochs):\n",
    "        model.train()\n",
    "        total_loss = 0\n",
    "        correct = 0\n",
    "        for x, y in train_loader:\n",
    "            x, y = x.to(device), y.to(device)\n",
    "            optimizer.zero_grad()\n",
    "            y_hat = model(x)\n",
    "            loss = criterion(y_hat, y)\n",
    "            loss.backward()\n",
    "            optimizer.step()\n",
    "            total_loss += loss.item()\n",
    "            correct += (y_hat.argmax(1) == y).sum().item()\n",
    "        acc = correct / len(train_loader.dataset)\n",
    "        print(f\"Epoch {epoch+1}, Loss: {total_loss:.4f}, Train Acc: {acc:.4f}\")\n",
    "    \n",
    "    return model\n",
    "\n"
   ]
  },
  {
   "cell_type": "code",
   "execution_count": 39,
   "id": "b0b40b67-5121-442f-ad3f-e9ae0891033c",
   "metadata": {},
   "outputs": [],
   "source": [
    "from sklearn.metrics import classification_report, confusion_matrix\n",
    "import seaborn as sns\n",
    "import matplotlib.pyplot as plt\n",
    "\n",
    "def evaluate_model(model, loader, label_names):\n",
    "    model.eval()\n",
    "    preds, targets = [], []\n",
    "    device = next(model.parameters()).device\n",
    "    with torch.no_grad():\n",
    "        for x, y in loader:\n",
    "            x = x.to(device)\n",
    "            outputs = model(x).argmax(1).cpu().numpy()\n",
    "            preds.extend(outputs)\n",
    "            targets.extend(y.numpy())\n",
    "\n",
    "    # Define class indices explicitly\n",
    "    class_indices = list(range(len(label_names)))\n",
    "\n",
    "    print(classification_report(targets, preds, labels=class_indices, target_names=label_names))\n",
    "    \n",
    "    cm = confusion_matrix(targets, preds, labels=class_indices)\n",
    "    sns.heatmap(cm, annot=True, fmt=\"d\", xticklabels=label_names, yticklabels=label_names)\n",
    "    plt.xlabel(\"Predicted\")\n",
    "    plt.ylabel(\"True\")\n",
    "    plt.title(\"Confusion Matrix\")\n",
    "    plt.show()\n"
   ]
  },
  {
   "cell_type": "code",
   "execution_count": 40,
   "id": "e04e3c5f-d615-4c98-a685-e7f99aff8b80",
   "metadata": {},
   "outputs": [
    {
     "name": "stdout",
     "output_type": "stream",
     "text": [
      "Epoch 1, Loss: 6.3207, Train Acc: 0.7961\n",
      "Epoch 2, Loss: 6.1152, Train Acc: 0.7255\n"
     ]
    },
    {
     "name": "stderr",
     "output_type": "stream",
     "text": [
      "C:\\Users\\IICT1\\anaconda3\\Lib\\site-packages\\sklearn\\metrics\\_classification.py:1344: UndefinedMetricWarning: Precision and F-score are ill-defined and being set to 0.0 in labels with no predicted samples. Use `zero_division` parameter to control this behavior.\n",
      "  _warn_prf(average, modifier, msg_start, len(result))\n",
      "C:\\Users\\IICT1\\anaconda3\\Lib\\site-packages\\sklearn\\metrics\\_classification.py:1344: UndefinedMetricWarning: Recall and F-score are ill-defined and being set to 0.0 in labels with no true samples. Use `zero_division` parameter to control this behavior.\n",
      "  _warn_prf(average, modifier, msg_start, len(result))\n",
      "C:\\Users\\IICT1\\anaconda3\\Lib\\site-packages\\sklearn\\metrics\\_classification.py:1344: UndefinedMetricWarning: Precision and F-score are ill-defined and being set to 0.0 in labels with no predicted samples. Use `zero_division` parameter to control this behavior.\n",
      "  _warn_prf(average, modifier, msg_start, len(result))\n",
      "C:\\Users\\IICT1\\anaconda3\\Lib\\site-packages\\sklearn\\metrics\\_classification.py:1344: UndefinedMetricWarning: Recall and F-score are ill-defined and being set to 0.0 in labels with no true samples. Use `zero_division` parameter to control this behavior.\n",
      "  _warn_prf(average, modifier, msg_start, len(result))\n",
      "C:\\Users\\IICT1\\anaconda3\\Lib\\site-packages\\sklearn\\metrics\\_classification.py:1344: UndefinedMetricWarning: Precision and F-score are ill-defined and being set to 0.0 in labels with no predicted samples. Use `zero_division` parameter to control this behavior.\n",
      "  _warn_prf(average, modifier, msg_start, len(result))\n",
      "C:\\Users\\IICT1\\anaconda3\\Lib\\site-packages\\sklearn\\metrics\\_classification.py:1344: UndefinedMetricWarning: Recall and F-score are ill-defined and being set to 0.0 in labels with no true samples. Use `zero_division` parameter to control this behavior.\n",
      "  _warn_prf(average, modifier, msg_start, len(result))\n"
     ]
    },
    {
     "name": "stdout",
     "output_type": "stream",
     "text": [
      "              precision    recall  f1-score   support\n",
      "\n",
      "       cells       0.00      0.00      0.00         0\n",
      "   Platelets       0.00      0.00      0.00         0\n",
      "         RBC       0.89      1.00      0.94        32\n",
      "         WBC       0.00      0.00      0.00         4\n",
      "\n",
      "   micro avg       0.89      0.89      0.89        36\n",
      "   macro avg       0.22      0.25      0.24        36\n",
      "weighted avg       0.79      0.89      0.84        36\n",
      "\n"
     ]
    },
    {
     "data": {
      "image/png": "[encoded data removed]",
      "text/plain": [
       "<Figure size 640x480 with 2 Axes>"
      ]
     },
     "metadata": {},
     "output_type": "display_data"
    }
   ],
   "source": [
    "model = SimpleCNN(num_classes)\n",
    "criterion = nn.CrossEntropyLoss()\n",
    "optimizer = torch.optim.Adam(model.parameters(), lr=1e-4)\n",
    "\n",
    "model = train_model(model, train_loader, val_loader, criterion, optimizer, epochs=2)\n",
    "evaluate_model(model, test_loader, label_names)\n"
   ]
  },
  {
   "cell_type": "code",
   "execution_count": 41,
   "id": "03cf55b6-e6d3-44a9-9d5f-5fcb45499020",
   "metadata": {},
   "outputs": [],
   "source": [
    "from sklearn.metrics import classification_report, confusion_matrix\n",
    "from collections import Counter\n",
    "import seaborn as sns\n",
    "import matplotlib.pyplot as plt\n",
    "\n",
    "def evaluate_model(model, loader, label_names):\n",
    "    model.eval()\n",
    "    preds, targets = [], []\n",
    "    device = next(model.parameters()).device\n",
    "    with torch.no_grad():\n",
    "        for x, y in loader:\n",
    "            x = x.to(device)\n",
    "            outputs = model(x).argmax(1).cpu().numpy()\n",
    "            preds.extend(outputs)\n",
    "            targets.extend(y.numpy())\n",
    "\n",
    "    class_indices = list(range(len(label_names)))\n",
    "\n",
    "    # Print classification report\n",
    "    print(\"\\nClassification Report:\")\n",
    "    print(classification_report(targets, preds, labels=class_indices, target_names=label_names))\n",
    "\n",
    "    # Print confusion matrix\n",
    "    cm = confusion_matrix(targets, preds, labels=class_indices)\n",
    "    sns.heatmap(cm, annot=True, fmt=\"d\", xticklabels=label_names, yticklabels=label_names)\n",
    "    plt.xlabel(\"Predicted\")\n",
    "    plt.ylabel(\"True\")\n",
    "    plt.title(\"Confusion Matrix\")\n",
    "    plt.show()\n",
    "\n",
    "    # Count number of predictions per class\n",
    "    pred_counts = Counter(preds)\n",
    "    true_counts = Counter(targets)\n",
    "\n",
    "    for idx, name in enumerate(label_names):\n",
    "        print(f\"{name:12s} → Predicted: {pred_counts.get(idx, 0):4d} | Actual: {true_counts.get(idx, 0):4d}\")\n"
   ]
  },
  {
   "cell_type": "code",
   "execution_count": null,
   "id": "b6a85beb-1328-45d1-947e-b4891b0151e8",
   "metadata": {},
   "outputs": [],
   "source": [
    "evaluate_model(model, test_loader, label_names)"
   ]
  },
  {
   "cell_type": "code",
   "execution_count": null,
   "id": "4411fb24-bb85-4597-b594-841f216efc02",
   "metadata": {},
   "outputs": [],
   "source": []
  }
 ],
 "metadata": {
  "kernelspec": {
   "display_name": "Python 3 (ipykernel)",
   "language": "python",
   "name": "python3"
  },
  "language_info": {
   "codemirror_mode": {
    "name": "ipython",
    "version": 3
   },
   "file_extension": ".py",
   "mimetype": "text/x-python",
   "name": "python",
   "nbconvert_exporter": "python",
   "pygments_lexer": "ipython3",
   "version": "3.11.7"
  }
 },
 "nbformat": 4,
 "nbformat_minor": 5
}
